{
 "cells": [
  {
   "cell_type": "markdown",
   "metadata": {},
   "source": [
    "###### the main purpose of this code is to find whether the two documents are similar or not !\n",
    "###### In this notebook I will discuss two ways to achieve this task, first is finding \"euclidean distance\" and second is \"cosine similarity\".\n",
    "\n",
    "\n",
    "#### Euclidean Distance \n"
   ]
  },
  {
   "cell_type": "markdown",
   "metadata": {},
   "source": [
    "![image](euclidean_distance.png)\n",
    "to get the similarity via this method- \n",
    "- find frequency of words in each document\n",
    "- calculate euclidean distance\n",
    "- if the distance is less than the threshold value then the two documents are similar.\n",
    "\n",
    "But there is a problem with this method which is suppose there are two documents, doc1 contains total 20,000 words and doc2 is summary of doc1 and it contains only 2000 words. Now, let's consider that word \"apple\" occuring 2000 times in doc1 and 200 time is doc2. \n",
    "\n",
    "the euclidean distance will be more for this case though both vectors are pointing in the same direction! "
   ]
  },
  {
   "cell_type": "markdown",
   "metadata": {},
   "source": [
    "### Cosine Similarity \n",
    "\n",
    "The above problem can be solved by using cosine similarity. \n",
    "\n",
    "![img](Cosine-Similarity-Formula-1.png)\n",
    "\n",
    "cosine similarity is the angle between two vectors and since both vectors <apple> of two documents are same they will lie in same plane and their angle will be less.\n",
    "    \n",
    "- if the value is close to 1 or 1 then the two documents are similar \n",
    "- if the value is 0 then the documents are not similar\n",
    "\n",
    "refer below image for better understanding  \n",
    "![](The-difference-between-Euclidean-distance-and-cosine-similarity.png)\n"
   ]
  },
  {
   "cell_type": "code",
   "execution_count": 2,
   "metadata": {},
   "outputs": [],
   "source": [
    "# first step is to get some text samples\n",
    "d1 = \"The giant panda (Ailuropoda melanoleuca; Chinese: 大熊猫;pinyin: dà xióng māo),[4] \\\n",
    "also known as panda bear or simply panda, is a bear[5] native to south central China.[1]\\\n",
    "It is easily recognized by the large, distinctive black patches around its eyes, \\\n",
    "over the ears, and across its round body. The name 'giant panda' \\\n",
    "is sometimes used to distinguish it from the red panda. Though it belongs to the order Carnivora,\\\n",
    "the giant panda is a folivore, with bamboo shoots and leaves making up more than 99% of its diet.[6] Giant\\\n",
    "pandas in the wild will occasionally eat other grasses, wild tubers, or even meat in the form of birds, rodents, or carrion. \\\n",
    "In captivity, they may receive honey, eggs, fish, yams, shrub leaves, oranges, or bananas along with specially prepared food.\"\n",
    "\n",
    "\n",
    "\n",
    "d2 = \"he giant panda lives in a few mountain ranges in central China, mainly in Sichuan, but also in \\\n",
    "neighbouring Shaanxi and Gansu.[9] As a result of farming, deforestation, and other development, the \\\n",
    "giant panda has been driven out of the lowland areas where it once lived.\\\n",
    "The giant panda is a conservation-reliant vulnerable species.[10][11] A 2007 report showed 239 pandas living \\\n",
    "in captivity inside China and another 27 outside the country.[12] As of December 2014, 49 giant pandas lived in \\\n",
    "captivity outside China, living in 18 zoos in 13 different countries.[13] Wild population estimates vary; one \\\n",
    "estimate shows that there are about 1,590 individuals living in the wild,[12] while a 2006 study via DNA \\\n",
    "analysis estimated that this figure could be as high as 2,000 to 3,000.[14] Some reports also show that \\\n",
    "the number of giant pandas in the wild is on the rise.[15] In March 2015, conservation news site Mongabay \\\n",
    "stated that the wild giant panda population had increased by 268, or 16.8%, to 1,864.[16] In 2016, the IUCN \\\n",
    "reclassified the species from 'endangered' to 'vulnerable'.\"\n",
    "# documents = [d1, d2, d3, d4]\n",
    "\n",
    "# documents"
   ]
  },
  {
   "cell_type": "code",
   "execution_count": 3,
   "metadata": {},
   "outputs": [],
   "source": [
    "# import libraries \n",
    "import re\n",
    "import nltk\n",
    "from nltk.corpus import stopwords\n",
    "import math\n",
    "import numpy as np"
   ]
  },
  {
   "cell_type": "code",
   "execution_count": 30,
   "metadata": {},
   "outputs": [
    {
     "name": "stdout",
     "output_type": "stream",
     "text": [
      "['the', 'giant', 'panda', 'ailuropoda', 'melanoleuca', 'chinese', '大熊猫', 'pinyin', 'dà', 'xióng', 'māo', '4', 'also', 'known', 'as', 'panda', 'bear', 'or', 'simply', 'panda', 'is', 'a', 'bear', '5', 'native', 'to', 'south', 'central', 'china', '1', 'it', 'is', 'easily', 'recognized', 'by', 'the', 'large', 'distinctive', 'black', 'patches', 'around', 'its', 'eyes', 'over', 'the', 'ears', 'and', 'across', 'its', 'round', 'body', 'the', 'name', 'giant', 'panda', 'is', 'sometimes', 'used', 'to', 'distinguish', 'it', 'from', 'the', 'red', 'panda', 'though', 'it', 'belongs', 'to', 'the', 'order', 'carnivora', 'the', 'giant', 'panda', 'is', 'a', 'folivore', 'with', 'bamboo', 'shoots', 'and', 'leaves', 'making', 'up', 'more', 'than', '99', 'of', 'its', 'diet', '6', 'giantpandas', 'in', 'the', 'wild', 'will', 'occasionally', 'eat', 'other', 'grasses', 'wild', 'tubers', 'or', 'even', 'meat', 'in', 'the', 'form', 'of', 'birds', 'rodents', 'or', 'carrion', 'in', 'captivity', 'they', 'may', 'receive', 'honey', 'eggs', 'fish', 'yams', 'shrub', 'leaves', 'oranges', 'or', 'bananas', 'along', 'with', 'specially', 'prepared', 'food']\n"
     ]
    }
   ],
   "source": [
    "# preprocessing steps \n",
    "# step 1:-> get the words from the documents and remove punctuations and make all the words lower case \n",
    "def get_words_fron_text(document):\n",
    "    document = document.lower()\n",
    "    vectors = re.findall(r'\\w+', document)\n",
    "    return vectors\n",
    "\n",
    "vectors = {}\n",
    "vectors['v1'] = get_words_fron_text(d1)\n",
    "vectors['v2'] = get_words_fron_text(d2)\n",
    "print(vectors['v1'])\n"
   ]
  },
  {
   "cell_type": "code",
   "execution_count": 31,
   "metadata": {},
   "outputs": [
    {
     "name": "stdout",
     "output_type": "stream",
     "text": [
      "['giant', 'panda', 'ailuropoda', 'melanoleuca', 'chinese', '大熊猫', 'pinyin', 'dà', 'xióng', 'māo', '4', 'also', 'known', 'panda', 'bear', 'simply', 'panda', 'bear', '5', 'native', 'south', 'central', 'china', '1', 'easily', 'recognized', 'large', 'distinctive', 'black', 'patches', 'around', 'eyes', 'ears', 'across', 'round', 'body', 'name', 'giant', 'panda', 'sometimes', 'used', 'distinguish', 'red', 'panda', 'though', 'belongs', 'order', 'carnivora', 'giant', 'panda', 'folivore', 'bamboo', 'shoots', 'leaves', 'making', '99', 'diet', '6', 'giantpandas', 'wild', 'occasionally', 'eat', 'grasses', 'wild', 'tubers', 'even', 'meat', 'form', 'birds', 'rodents', 'carrion', 'captivity', 'may', 'receive', 'honey', 'eggs', 'fish', 'yams', 'shrub', 'leaves', 'oranges', 'bananas', 'along', 'specially', 'prepared', 'food']\n"
     ]
    }
   ],
   "source": [
    "\n",
    "# remove stop words \n",
    "def remove_stopwords(vector):\n",
    "    stpwrds = set(stopwords.words('english'))\n",
    "#     print(\"stopwords\\n\", stpwrds)\n",
    "#     print('-----------------------------------------------------------------------------------------------------------------------')\n",
    "    filtered_vectors = {}\n",
    "    word_lst = []\n",
    "    for word in vector:\n",
    "        if word not in stpwrds:\n",
    "            word_lst.append(word)\n",
    "    \n",
    "    return word_lst\n",
    "\n",
    "filtered_vectors = {}\n",
    "filtered_vectors['v1'] = remove_stopwords(vectors['v1'])\n",
    "filtered_vectors['v2'] = remove_stopwords(vectors['v2'])\n",
    "\n",
    "print(filtered_vectors['v1'])"
   ]
  },
  {
   "cell_type": "code",
   "execution_count": 58,
   "metadata": {},
   "outputs": [],
   "source": [
    "# get bag of words\n",
    "def get_bag_of_words(filtered_vectors):\n",
    "    bag_of_words = set([word for vector, words_lst in filtered_vectors.items() for word in words_lst])\n",
    "    print('total words', len(bag_of_words))\n",
    "    return bag_of_words\n",
    "\n",
    "\n",
    "# now calculate frequency of words in each vector \n",
    "def calculate_frequency(filtered_vector, bag_of_words):\n",
    "    vectors_with_word_count = {}\n",
    "    word_frequency = {}\n",
    "    for word in filtered_vector:\n",
    "        if word not in word_frequency:\n",
    "            word_frequency[word] = 1\n",
    "        else:\n",
    "            word_frequency[word] += 1\n",
    "#     vectors_with_word_count[vector] = word_frequency\n",
    "        \n",
    "#     print(word_frequency)\n",
    "    \"\"\" \n",
    "    create equal length of all vectors\n",
    "    if some word is not present in the vector then put its value (which is the frequency of that word in the document) as zero.\n",
    "\n",
    "    \"\"\"\n",
    "    temp_dict = {}\n",
    "    keys = word_frequency.keys()\n",
    "    for word in bag_of_words:\n",
    "        if word not in keys:\n",
    "            temp_dict[word] = 0\n",
    "\n",
    "    word_frequency.update(temp_dict)\n",
    "#     print(\"length of dictionary:\", len(word_frequency), word_frequency)\n",
    "    return word_frequency\n",
    "\n"
   ]
  },
  {
   "cell_type": "code",
   "execution_count": 59,
   "metadata": {},
   "outputs": [
    {
     "name": "stdout",
     "output_type": "stream",
     "text": [
      "total words 160\n"
     ]
    }
   ],
   "source": [
    "bag_of_words = get_bag_of_words(filtered_vectors)\n",
    "v1 = calculate_frequency(filtered_vectors['v1'], bag_of_words)\n",
    "v2 = calculate_frequency(filtered_vectors['v2'], bag_of_words)"
   ]
  },
  {
   "cell_type": "markdown",
   "metadata": {},
   "source": [
    "\n",
    "let's check similarity via both methods discussed above\n",
    "\n",
    "- euclidean distance \n",
    "- cosine similarity\n",
    "\n"
   ]
  },
  {
   "cell_type": "markdown",
   "metadata": {},
   "source": [
    "##### Euclidean Distance"
   ]
  },
  {
   "cell_type": "code",
   "execution_count": 60,
   "metadata": {},
   "outputs": [],
   "source": [
    "# function to claculate euclidean distance\n",
    "def calculate_euclidean_dist(v1, v2):\n",
    "    total_sum = 0\n",
    "    for word, count in v1.items():\n",
    "        total_sum += (v1[word] - v2[word])**2\n",
    "    euclidean_distance = math.sqrt(total_sum)\n",
    "    return euclidean_distance\n",
    "\n",
    "\n",
    "\n"
   ]
  },
  {
   "cell_type": "code",
   "execution_count": 61,
   "metadata": {},
   "outputs": [
    {
     "data": {
      "text/plain": [
       "{'giant': 6,\n",
       " 'panda': 4,\n",
       " 'lives': 1,\n",
       " 'mountain': 1,\n",
       " 'ranges': 1,\n",
       " 'central': 1,\n",
       " 'china': 3,\n",
       " 'mainly': 1,\n",
       " 'sichuan': 1,\n",
       " 'also': 2,\n",
       " 'neighbouring': 1,\n",
       " 'shaanxi': 1,\n",
       " 'gansu': 1,\n",
       " '9': 1,\n",
       " 'result': 1,\n",
       " 'farming': 1,\n",
       " 'deforestation': 1,\n",
       " 'development': 1,\n",
       " 'driven': 1,\n",
       " 'lowland': 1,\n",
       " 'areas': 1,\n",
       " 'lived': 2,\n",
       " 'conservation': 2,\n",
       " 'reliant': 1,\n",
       " 'vulnerable': 2,\n",
       " 'species': 2,\n",
       " '10': 1,\n",
       " '11': 1,\n",
       " '2007': 1,\n",
       " 'report': 1,\n",
       " 'showed': 1,\n",
       " '239': 1,\n",
       " 'pandas': 3,\n",
       " 'living': 3,\n",
       " 'captivity': 2,\n",
       " 'inside': 1,\n",
       " 'another': 1,\n",
       " '27': 1,\n",
       " 'outside': 2,\n",
       " 'country': 1,\n",
       " '12': 2,\n",
       " 'december': 1,\n",
       " '2014': 1,\n",
       " '49': 1,\n",
       " '18': 1,\n",
       " 'zoos': 1,\n",
       " '13': 2,\n",
       " 'different': 1,\n",
       " 'countries': 1,\n",
       " 'wild': 4,\n",
       " 'population': 2,\n",
       " 'estimates': 1,\n",
       " 'vary': 1,\n",
       " 'one': 1,\n",
       " 'estimate': 1,\n",
       " 'shows': 1,\n",
       " '1': 2,\n",
       " '590': 1,\n",
       " 'individuals': 1,\n",
       " '2006': 1,\n",
       " 'study': 1,\n",
       " 'via': 1,\n",
       " 'dna': 1,\n",
       " 'analysis': 1,\n",
       " 'estimated': 1,\n",
       " 'figure': 1,\n",
       " 'could': 1,\n",
       " 'high': 1,\n",
       " '2': 1,\n",
       " '000': 2,\n",
       " '3': 1,\n",
       " '14': 1,\n",
       " 'reports': 1,\n",
       " 'show': 1,\n",
       " 'number': 1,\n",
       " 'rise': 1,\n",
       " '15': 1,\n",
       " 'march': 1,\n",
       " '2015': 1,\n",
       " 'news': 1,\n",
       " 'site': 1,\n",
       " 'mongabay': 1,\n",
       " 'stated': 1,\n",
       " 'increased': 1,\n",
       " '268': 1,\n",
       " '16': 2,\n",
       " '8': 1,\n",
       " '864': 1,\n",
       " '2016': 1,\n",
       " 'iucn': 1,\n",
       " 'reclassified': 1,\n",
       " 'endangered': 1,\n",
       " 'belongs': 0,\n",
       " 'sometimes': 0,\n",
       " 'used': 0,\n",
       " 'across': 0,\n",
       " '99': 0,\n",
       " '4': 0,\n",
       " 'tubers': 0,\n",
       " 'native': 0,\n",
       " 'ailuropoda': 0,\n",
       " 'recognized': 0,\n",
       " 'grasses': 0,\n",
       " 'giantpandas': 0,\n",
       " '大熊猫': 0,\n",
       " 'shoots': 0,\n",
       " 'making': 0,\n",
       " 'order': 0,\n",
       " 'māo': 0,\n",
       " 'black': 0,\n",
       " 'red': 0,\n",
       " 'xióng': 0,\n",
       " 'diet': 0,\n",
       " 'dà': 0,\n",
       " 'distinguish': 0,\n",
       " 'prepared': 0,\n",
       " '5': 0,\n",
       " 'oranges': 0,\n",
       " 'ears': 0,\n",
       " 'patches': 0,\n",
       " 'though': 0,\n",
       " 'along': 0,\n",
       " 'known': 0,\n",
       " 'carrion': 0,\n",
       " 'occasionally': 0,\n",
       " 'honey': 0,\n",
       " '6': 0,\n",
       " 'eat': 0,\n",
       " 'specially': 0,\n",
       " 'body': 0,\n",
       " 'yams': 0,\n",
       " 'bear': 0,\n",
       " 'easily': 0,\n",
       " 'bananas': 0,\n",
       " 'leaves': 0,\n",
       " 'birds': 0,\n",
       " 'folivore': 0,\n",
       " 'chinese': 0,\n",
       " 'carnivora': 0,\n",
       " 'even': 0,\n",
       " 'eyes': 0,\n",
       " 'south': 0,\n",
       " 'melanoleuca': 0,\n",
       " 'fish': 0,\n",
       " 'eggs': 0,\n",
       " 'distinctive': 0,\n",
       " 'receive': 0,\n",
       " 'form': 0,\n",
       " 'name': 0,\n",
       " 'simply': 0,\n",
       " 'bamboo': 0,\n",
       " 'food': 0,\n",
       " 'pinyin': 0,\n",
       " 'shrub': 0,\n",
       " 'large': 0,\n",
       " 'meat': 0,\n",
       " 'around': 0,\n",
       " 'rodents': 0,\n",
       " 'may': 0,\n",
       " 'round': 0}"
      ]
     },
     "execution_count": 61,
     "metadata": {},
     "output_type": "execute_result"
    }
   ],
   "source": [
    "v2"
   ]
  },
  {
   "cell_type": "markdown",
   "metadata": {},
   "source": [
    "##### Cosine Similarity"
   ]
  },
  {
   "cell_type": "code",
   "execution_count": 122,
   "metadata": {},
   "outputs": [],
   "source": [
    "def calculate_cosine_similarity(v1, v2):\n",
    "    dot_product = 0\n",
    "    sqr_v1 = 0\n",
    "    sqr_v2 = 0\n",
    "    for word in v1:\n",
    "        dot_product += v1[word] * v2[word]\n",
    "        sqr_v1 += v1[word] * v1[word]\n",
    "        sqr_v2 += v2[word] * v2[word]\n",
    "    magnitude_v1 = math.sqrt(sqr_v1)\n",
    "    magnitude_v2 = math.sqrt(sqr_v2)\n",
    "    \n",
    "    cosine_dist = dot_product / (magnitude_v1 * magnitude_v2)\n",
    "    return cosine_dist\n",
    "\n"
   ]
  },
  {
   "cell_type": "code",
   "execution_count": 130,
   "metadata": {},
   "outputs": [
    {
     "name": "stdout",
     "output_type": "stream",
     "text": [
      "Euclidean distance: 15.0996688705415\n",
      "cosine similarity: 0.35754847096709713\n"
     ]
    }
   ],
   "source": [
    "\n",
    "print(\"Euclidean distance:\", calculate_euclidean_dist(v1, v2))\n",
    "print(\"cosine similarity:\", calculate_cosine_similarity(v1, v2))"
   ]
  },
  {
   "cell_type": "markdown",
   "metadata": {},
   "source": [
    "- here the angle between two text is  0.35 the distance is 15.1\n",
    "- by the angle one can simply say that two docs are similar but in case of ditance we need to decide threshold value to claim the similarity\n"
   ]
  },
  {
   "cell_type": "code",
   "execution_count": 138,
   "metadata": {},
   "outputs": [],
   "source": [
    "# text on rose\n",
    "d3 = \"The leaves are borne alternately on the stem. In most species they are 5 to 15 centimetres (2.0 to 5.9 in) long,\\\n",
    "pinnate, with (3–) 5–9 (–13) leaflets and basal stipules; the leaflets usually have a serrated margin, and often a few \\\n",
    "small prickles on the underside of the stem. Most roses are deciduous but a few (particularly from Southeast Asia) \\\n",
    "are evergreen or nearly so. \\\n",
    "\\\n",
    "The flowers of most species have five petals, with the exception of Rosa sericea,\\\n",
    "which usually has only four. Each petal is divided into two distinct lobes and is usually white or \\\n",
    "pink, though in a few species yellow or red. Beneath the petals are five sepals (or in the case of \\\n",
    "some Rosa sericea, four). These may be long enough to be visible when viewed from above and appear as\\\n",
    "green points alternating with the rounded petals. There are multiple superior ovaries that develop \\\n",
    "into achenes.[4] Roses are insect-pollinated in nature. \\\n",
    "\\\n",
    "The aggregate fruit of the rose is a berry-like structure called a rose hip. \\\n",
    "Many of the domestic cultivars do not produce hips, as the flowers are so tightly \\\n",
    "petalled that they do not provide access for pollination. The hips of most species are red,\\\n",
    "but a few (e.g. Rosa pimpinellifolia) have dark purple to black hips. Each hip comprises an outer \\\n",
    "fleshy layer, the hypanthium, which contains 5–160 (technically dry single-seeded fruits called achenes) \\\n",
    "embedded in a matrix of fine, but stiff, hairs. Rose hips of some species, especially the dog rose (Rosa canina) \\\n",
    "and rugosa rose (Rosa rugosa), are very rich in vitamin C, among the richest sources of any plant. \\\n",
    "The hips are eaten by fruit-eating birds such as thrushes and waxwings, which then disperse the seeds\\\n",
    "in their droppings. Some birds, particularly finches, also eat the seeds.\\\n",
    "\\\n",
    "The sharp growths along a rose stem, though commonly called  \\\n",
    ", are technically prickles, outgrowths of the epidermis (the outer layer of tissue of the stem), \\\n",
    "unlike true thorns, which are modified stems. Rose prickles are typically sickle-shaped hooks, \\\n",
    "which aid the rose in hanging onto other vegetation when growing over it. Some species such as Rosa \\\n",
    "rugosa and Rosa pimpinellifolia have densely packed straight prickles, probably an adaptation to \\\n",
    "reduce browsing by animals, but also possibly an adaptation to trap wind-blown sand and so reduce erosion \\\n",
    "and protect their roots (both of these species grow naturally on coastal sand dunes). Despite the presence \\\n",
    "of prickles, roses are frequently browsed by deer. A few species of roses have only vestigial prickles that have no points.\"\n",
    "\n",
    "# text on tiger \n",
    "d4 = \"The tiger (Panthera tigris) is the largest species among the Felidae and \\\n",
    "classified in the genus Panthera. It is most recognisable for its dark vertical \\\n",
    "stripes on reddish-orange fur with a lighter underside. It is an apex predator,  \\\n",
    "primarily preying on ungulates such as deer and wild boar. It is territorial and  \\\n",
    "generally a solitary but social predator, requiring large contiguous areas of  \\\n",
    "habitat, which support its requirements for prey and rearing of its offspring. \\\n",
    "Tiger cubs stay with their \\\n",
    "mother for about two years, before they become independent and leave their mother's home range to establish their own.\""
   ]
  },
  {
   "cell_type": "code",
   "execution_count": 139,
   "metadata": {},
   "outputs": [
    {
     "name": "stdout",
     "output_type": "stream",
     "text": [
      "total words 226\n"
     ]
    }
   ],
   "source": [
    "v3_words = get_words_fron_text(d3)\n",
    "v4_words = get_words_fron_text(d4)\n",
    "filtered_v3 = remove_stopwords(v3_words)\n",
    "filtered_v4 = remove_stopwords(v4_words)\n",
    "bow = get_bag_of_words({'v3': filtered_v3, 'v4': filtered_v4})\n",
    "v3 = calculate_frequency(filtered_v3, bow)\n",
    "v4 = calculate_frequency(filtered_v4, bow)\n"
   ]
  },
  {
   "cell_type": "code",
   "execution_count": 140,
   "metadata": {},
   "outputs": [
    {
     "name": "stdout",
     "output_type": "stream",
     "text": [
      "Euclidean distance: 24.43358344574123\n",
      "cosine similarity: 0.06921162787499348\n"
     ]
    }
   ],
   "source": [
    "\n",
    "print(\"Euclidean distance:\", calculate_euclidean_dist(v3, v4))\n",
    "print(\"cosine similarity:\", calculate_cosine_similarity(v3, v4))"
   ]
  },
  {
   "cell_type": "code",
   "execution_count": 144,
   "metadata": {},
   "outputs": [],
   "source": [
    "d5 = \" this weather is quite beauitful and I would really like to go out and have some fun\"\n",
    "d6 = \" no way, i am not reading any book just for the sake of marks!!!!! \""
   ]
  },
  {
   "cell_type": "code",
   "execution_count": 146,
   "metadata": {},
   "outputs": [
    {
     "name": "stdout",
     "output_type": "stream",
     "text": [
      "total words 13\n",
      "Euclidean distance: 3.605551275463989\n",
      "cosine similarity: 0.0\n"
     ]
    }
   ],
   "source": [
    "v5_words = get_words_fron_text(d5)\n",
    "v6_words = get_words_fron_text(d6)\n",
    "filtered_v5 = remove_stopwords(v5_words)\n",
    "filtered_v6 = remove_stopwords(v6_words)\n",
    "bow = get_bag_of_words({'v3': filtered_v5, 'v4': filtered_v6})\n",
    "v5 = calculate_frequency(filtered_v5, bow)\n",
    "v6 = calculate_frequency(filtered_v6, bow)\n",
    "\n",
    "print(\"Euclidean distance:\", calculate_euclidean_dist(v5, v6))\n",
    "print(\"cosine similarity:\", calculate_cosine_similarity(v5, v6))"
   ]
  },
  {
   "cell_type": "markdown",
   "metadata": {},
   "source": [
    "in the above examples we can see that cosine similarity is giving good results. if it is close to zero then the documents are not similar and if close to 1 then they are similar "
   ]
  },
  {
   "cell_type": "code",
   "execution_count": null,
   "metadata": {},
   "outputs": [],
   "source": []
  }
 ],
 "metadata": {
  "kernelspec": {
   "display_name": "Python 3",
   "language": "python",
   "name": "python3"
  },
  "language_info": {
   "codemirror_mode": {
    "name": "ipython",
    "version": 3
   },
   "file_extension": ".py",
   "mimetype": "text/x-python",
   "name": "python",
   "nbconvert_exporter": "python",
   "pygments_lexer": "ipython3",
   "version": "3.7.3"
  }
 },
 "nbformat": 4,
 "nbformat_minor": 2
}
